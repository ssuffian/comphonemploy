{
 "metadata": {
  "name": "",
  "signature": "sha256:d2fc1ce7d2cac88c2d067854afd7c04172bd2999fa093953c804f61ff6c40c3f"
 },
 "nbformat": 3,
 "nbformat_minor": 0,
 "worksheets": [
  {
   "cells": [
    {
     "cell_type": "code",
     "collapsed": false,
     "input": [
      "import yaml\n",
      "from sqlalchemy import create_engine\n",
      "from sqlalchemy import MetaData, Column, Table\n",
      "from sqlalchemy import Integer, String, DateTime, Boolean\n",
      "from sqlalchemy.orm import Session, sessionmaker\n",
      "from sqlalchemy.ext.declarative import declarative_base\n",
      "from contextlib import contextmanager\n",
      "import datetime\n",
      "import sys\n",
      "sys.path.append('../')\n",
      "import jobs2phones as j2p\n",
      "import smtplib"
     ],
     "language": "python",
     "metadata": {},
     "outputs": [],
     "prompt_number": 83
    },
    {
     "cell_type": "code",
     "collapsed": false,
     "input": [
      "with open('../config.yaml') as f:\n",
      "    cf = yaml.safe_load(f)"
     ],
     "language": "python",
     "metadata": {},
     "outputs": [],
     "prompt_number": 84
    },
    {
     "cell_type": "code",
     "collapsed": false,
     "input": [
      "#Old, for testing purposes only. Use setup_schema.py for most updated schema.\n",
      "def setup_schema():\n",
      "    engine = create_engine('postgresql://'+cf['postgres_username']+':'+\n",
      "                           cf['postgres_password']+'@localhost/'+cf['postgres_db'])\n",
      "    metadata = MetaData(bind=engine)\n",
      "    posts_table = Table('posts', metadata,\n",
      "                        Column('id', String, primary_key=True),\n",
      "                        Column('address', String(200)),\n",
      "                        Column('body', String(10000)),\n",
      "                        Column('date_posted', DateTime),\n",
      "                        Column('pay',String(200)),\n",
      "                        Column('phone_number',String(100)),\n",
      "                        Column('new',Boolean),\n",
      "                        Column('text',String(140)),\n",
      "                        Column('search_criteria',String(140)),\n",
      "                        )\n",
      "    users_table = Table('users', metadata,\n",
      "                            Column('password', String), \n",
      "                            Column('email_address', String),\n",
      "                            Column('phone_number', String, primary_key=True, nullable=False),\n",
      "                            Column('search_criteria', String, nullable=False), \n",
      "                            )\n",
      "    # create or drops tables in database\n",
      "\n",
      "    metadata.drop_all()\n",
      "    metadata.create_all()\n"
     ],
     "language": "python",
     "metadata": {},
     "outputs": [],
     "prompt_number": 6
    },
    {
     "cell_type": "code",
     "collapsed": false,
     "input": [
      "search_term='warehouse&20philadelphia dishwasher&20philadelphia'\n",
      "search_type='lab'\n",
      "directory = '../data/'+search_term+'/'"
     ],
     "language": "python",
     "metadata": {},
     "outputs": [],
     "prompt_number": 107
    },
    {
     "cell_type": "code",
     "collapsed": false,
     "input": [
      "Base = declarative_base()\n",
      "\n",
      "class Post(Base):\n",
      "    __tablename__ = 'posts'\n",
      "    id = Column('id', String, primary_key=True)\n",
      "    address = Column('address', String(200))\n",
      "    body = Column('body', String(10000))\n",
      "    date_posted = Column('date_posted', DateTime)\n",
      "    pay = Column('pay',String(200))\n",
      "    phone_number = Column('phone_number',String(100))\n",
      "    new = Column('new',Boolean)\n",
      "    text = Column('text',String(140))\n",
      "    search_criteria = Column('search_criteria',String(140))\n",
      "    \n",
      "class User(Base):\n",
      "    __tablename__ = 'users'\n",
      "    password = Column('password', String)\n",
      "    email_address = Column('email_address', String)\n",
      "    phone_number = Column('phone_number', String, primary_key=True)\n",
      "    search_criteria = Column('search_criteria', String, nullable=False)\n",
      "    posts_sent_count = Column('posts_sent_count',Integer)\n",
      "    \n",
      "    \n",
      "class UserInserter(object):\n",
      "    def insert(self,session,email_address,phone_number,password,search_criteria):\n",
      "        if len(session.query(User).filter(User.phone_number==phone_number).all())==0:\n",
      "            new_user = User(email_address=email_address, phone_number=phone_number,password=password,\n",
      "                        search_criteria=search_criteria,posts_sent_count=0)\n",
      "            session.merge(new_user)\n",
      "            \n",
      "class UserDeleter(object):\n",
      "    def delete(self,session,phone_number):\n",
      "        user = session.query(User).filter(User.phone_number==phone_number)[0]\n",
      "        session.delete(user)\n",
      "    \n",
      "class UserReader(object):\n",
      "    def read(self,session, search_criteria):\n",
      "        users = []\n",
      "        for i,user in enumerate(session.query(User).\n",
      "                                filter(User.search_criteria.like('%'+search_criteria+'%'))):\n",
      "            users.append(user.phone_number)\n",
      "        return users\n",
      "    \n",
      "class UserEditer(object):\n",
      "    def edit(self,session,phone_number,search_criteria):\n",
      "        user = session.query(User).filter(User.phone_number==phone_number)[0]\n",
      "        user.search_criteria = search_criteria\n",
      "        session.merge(user)\n",
      "\n",
      "class UserExistChecker(object):\n",
      "    def check(self,session,phone_number):\n",
      "        if session.query(User).filter(User.phone_number==phone_number).count() == 0:\n",
      "            return False\n",
      "        else:\n",
      "            return True\n",
      "        \n",
      "class PostInserter(object):\n",
      "    def insert(self,session,row):\n",
      "        if len(session.query(Post).filter(Post.id==row['post_id']).all())==0:\n",
      "            new_post = Post(id=row['post_id'], address=row['address'], body=row['body'],\n",
      "                     date_posted=datetime.datetime.strptime(row['date_posted'], \"%Y-%m-%d %I:%M%p\") , \n",
      "                     pay=row['pay'],phone_number=row['phone_number'], new=row['new'], text=row['text'],\n",
      "                     search_criteria=search_term)\n",
      "            session.add(new_post)\n",
      "\n",
      "class PostReader(object):\n",
      "    def read(self,session):\n",
      "        posts = []\n",
      "        for i,post in enumerate(session.query(Post).filter(Post.new==True)):\n",
      "            posts.append([post.text,post.search_criteria])\n",
      "        return posts\n",
      "    \n",
      "class PostMarker(object):\n",
      "    def mark(self,session,post):\n",
      "        updated_post = session.query(Post).filter(Post.text==post)[0]\n",
      "        updated_post.new = False\n",
      "        session.merge(updated_post)\n",
      "        \n",
      "class PostsCountIncrementer(object):\n",
      "    def increment(self,session,phone_number):\n",
      "        user = session.query(User).filter(User.phone_number==phone_number)[0]\n",
      "        user.posts_sent_count = user.posts_sent_count + 1\n",
      "        session.merge(user)\n",
      "\n",
      "@contextmanager\n",
      "def session_scope():\n",
      "    \"\"\"Provide a transactional scope around a series of operations.\"\"\"\n",
      "    session = Session()\n",
      "    try:\n",
      "        yield session\n",
      "        session.commit()\n",
      "    except:\n",
      "        session.rollback()\n",
      "        raise\n",
      "    finally:\n",
      "        session.close()\n",
      "\n",
      "def mark_post(post):\n",
      "    with session_scope() as session:\n",
      "        return PostMarker().mark(session,post)\n",
      "\n",
      "def load_data(df_valid):\n",
      "    with session_scope() as session:\n",
      "        for i,row in df_valid.iterrows():\n",
      "            #if(i=='4665470743'):\n",
      "            #    row['new']=True\n",
      "            #else:\n",
      "            #    row['new']=False\n",
      "            PostInserter().insert(session,row)\n",
      "            \n",
      "def read_new_data():\n",
      "    with session_scope() as session:\n",
      "        return PostReader().read(session)\n",
      "    \n",
      "def read_interested_users(search_criteria):\n",
      "    with session_scope() as session:\n",
      "        return UserReader().read(session,search_criteria)\n",
      "  \n",
      "def delete_user(phone_number):\n",
      "    with session_scope() as session:\n",
      "        return UserDeleter().delete(session,phone_number)\n",
      "    \n",
      "def check_user(phone_number):\n",
      "    with session_scope() as session:\n",
      "        return UserExistChecker().check(session,phone_number)\n",
      "    \n",
      "def edit_user(phone_number,search_criteria):\n",
      "    with session_scope() as session:\n",
      "        return UserEditer().edit(session,phone_number,search_criteria)\n",
      "    \n",
      "def insert_user(email_address,phone_number,password,search_criteria):\n",
      "    with session_scope() as session:\n",
      "        UserInserter().insert(session,email_address,phone_number,password,search_criteria)\n",
      "        \n",
      "def increment_posts_sent_count(phone_number):\n",
      "    with session_scope() as session:\n",
      "        return PostsCountIncrementer().increment(session,phone_number)"
     ],
     "language": "python",
     "metadata": {},
     "outputs": [],
     "prompt_number": 116
    },
    {
     "cell_type": "code",
     "collapsed": false,
     "input": [
      "def send_text(to_addrs,msg):\n",
      "    fromaddr = cf['fromaddr']\n",
      "    # Credentials (if needed)\n",
      "    username = cf['username']\n",
      "    password = cf['password']\n",
      "\n",
      "    # The actual mail send\n",
      "    server = smtplib.SMTP('smtp.gmail.com:587')\n",
      "    server.starttls()\n",
      "    server.login(username,password)\n",
      "    server.sendmail(fromaddr, toaddrs, msg)\n",
      "    server.quit()"
     ],
     "language": "python",
     "metadata": {},
     "outputs": [],
     "prompt_number": 87
    },
    {
     "cell_type": "code",
     "collapsed": false,
     "input": [
      "def bind_to_database():\n",
      "    engine = create_engine('postgresql://'+cf['postgres_username']+':'+\n",
      "                       cf['postgres_password']+'@localhost/'+cf['postgres_db'])\n",
      "    Session = sessionmaker(bind=engine)\n",
      "    return Session"
     ],
     "language": "python",
     "metadata": {},
     "outputs": [],
     "prompt_number": 88
    },
    {
     "cell_type": "code",
     "collapsed": false,
     "input": [
      "Session = bind_to_database()\n",
      "insert_user('',cf['toaddrs_demo'],'pword',search_term)"
     ],
     "language": "python",
     "metadata": {},
     "outputs": [],
     "prompt_number": 109
    },
    {
     "cell_type": "code",
     "collapsed": false,
     "input": [
      "Session = bind_to_database()\n",
      "edit_user(cf['toaddrs_demo'],search_term)"
     ],
     "language": "python",
     "metadata": {},
     "outputs": [],
     "prompt_number": 24
    },
    {
     "cell_type": "code",
     "collapsed": false,
     "input": [
      "search_criteria = 'warehouse&20philadelphia'\n",
      "print search_criteria.split(' ')\n",
      "Session = bind_to_database()\n",
      "read_interested_users(search_criteria)"
     ],
     "language": "python",
     "metadata": {},
     "outputs": [
      {
       "output_type": "stream",
       "stream": "stdout",
       "text": [
        "['warehouse&20philadelphia']\n"
       ]
      },
      {
       "metadata": {},
       "output_type": "pyout",
       "prompt_number": 117,
       "text": [
        "[u'2676718589@vtext.com']"
       ]
      }
     ],
     "prompt_number": 117
    },
    {
     "cell_type": "code",
     "collapsed": false,
     "input": [],
     "language": "python",
     "metadata": {},
     "outputs": [
      {
       "output_type": "stream",
       "stream": "stdout",
       "text": [
        "dishwasher&20philadelphia\n",
        "warehouse&20philadelphia\n"
       ]
      }
     ],
     "prompt_number": 101
    },
    {
     "cell_type": "code",
     "collapsed": false,
     "input": [
      "Session = bind_to_database()\n",
      "delete_user(cf['toaddrs_demo'])"
     ],
     "language": "python",
     "metadata": {},
     "outputs": [],
     "prompt_number": 108
    },
    {
     "cell_type": "code",
     "collapsed": false,
     "input": [
      "Session = bind_to_database()\n",
      "check_user(cf['toaddrs_demo'])"
     ],
     "language": "python",
     "metadata": {},
     "outputs": [
      {
       "metadata": {},
       "output_type": "pyout",
       "prompt_number": 75,
       "text": [
        "True"
       ]
      }
     ],
     "prompt_number": 75
    },
    {
     "cell_type": "code",
     "collapsed": false,
     "input": [
      "def parse_and_load_directory_into_database(directory):\n",
      "    df = j2p.create_df(directory)\n",
      "    df_valid = j2p.get_valid_texts(df)\n",
      "    load_data(df_valid)"
     ],
     "language": "python",
     "metadata": {},
     "outputs": [],
     "prompt_number": 29
    },
    {
     "cell_type": "code",
     "collapsed": false,
     "input": [
      "def send_from_database():\n",
      "    posts = read_new_data()\n",
      "    for post in posts:\n",
      "        phone_numbers = read_interested_users(post[1])\n",
      "        for phone_number in phone_numbers:\n",
      "            send_text(phone_number,post[0])\n",
      "            mark_post(post[0])\n",
      "            increment_posts_sent_count(phone_number)"
     ],
     "language": "python",
     "metadata": {},
     "outputs": [],
     "prompt_number": 33
    }
   ],
   "metadata": {}
  }
 ]
}